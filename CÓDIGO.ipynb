{
  "cells": [
    {
      "cell_type": "markdown",
      "source": [
        "**CHALLENGE SPRINT**\n",
        "\n",
        "A IA projetada para o sistema de recomendações personalizadas foi criada para fornecer informações para os usuários com base nos seus interesses pessoais, profissionais e acadêmicos. O sistema foi desenvolvido através de uma série de etapas que garantiram um bom funcionamento e eficácia, passando por etapas desde a coleta e preparação dos dados fornecidos até o treinamento e validação do modelo final. Dados como interesse profissional, interesse pessoal e área de interesse são coletados e armazenados em uma base de dados (Excel).\n",
        "\n",
        "\n",
        "\n"
      ],
      "metadata": {
        "id": "va5X0OHdMRNv"
      }
    },
    {
      "cell_type": "markdown",
      "source": [
        "O primeiro passo é importar o módulo drive da biblioteca google.colab, permitindo o acesso ao Google Drive através do Google Colab"
      ],
      "metadata": {
        "id": "XHhG0VdOPeFZ"
      }
    },
    {
      "cell_type": "code",
      "source": [
        "from google.colab import drive\n",
        "drive.mount('/content/drive')"
      ],
      "metadata": {
        "colab": {
          "base_uri": "https://localhost:8080/"
        },
        "id": "wMvo8CQkOWBw",
        "outputId": "1b0541d9-79a4-44ed-a025-b9d4736cae40"
      },
      "execution_count": 3,
      "outputs": [
        {
          "output_type": "stream",
          "name": "stdout",
          "text": [
            "Mounted at /content/drive\n"
          ]
        }
      ]
    },
    {
      "cell_type": "markdown",
      "source": [
        "**IMPORTS**\n",
        "\n",
        "Para o melhor funcionamento do sistema foram realizados alguns imports (Pandas e Numpy) que realizam a manipulação e análise de dados e fornece suporte para arrays e operações matemáticas. Além disso, foram usados o TfidfVectorizer que transforma o texto bruto em um formato que os algoritmos de machine learning possam processar, a função Cosine_similarity que calcula a similaridade entre dois vetores, a função Train_test_split que divide os dados em conjuntos de treino e teste. o algoritimo Regressão Linear que modela a relação entre uma variável dependente e uma ou mais variáveis independentes e a função Mean_squared_error que calcula o erro entre os valores preditos pelo modelo e os valores reais.\n"
      ],
      "metadata": {
        "id": "eMJGLTF4QbS_"
      }
    },
    {
      "cell_type": "code",
      "source": [
        "import pandas as pd\n",
        "import numpy as np\n",
        "from sklearn.feature_extraction.text import TfidfVectorizer\n",
        "from sklearn.metrics.pairwise import cosine_similarity\n",
        "from sklearn.model_selection import train_test_split\n",
        "from sklearn.linear_model import LinearRegression\n",
        "from sklearn.metrics import mean_squared_error"
      ],
      "metadata": {
        "id": "zVVcun_X_O6K"
      },
      "execution_count": 1,
      "outputs": []
    },
    {
      "cell_type": "markdown",
      "source": [
        "Em seguida, o código define o caminho do arquivo Excel onde os dados estão armazenados, os dados são carregados do arquivo Excel em um DataFrame e os espaços em branco dos nomes das colunas do DataFrame são removidos."
      ],
      "metadata": {
        "id": "0J0151GD_nf9"
      }
    },
    {
      "cell_type": "code",
      "source": [
        "file_path = '/content/drive/MyDrive/Base de dados.xlsx'\n",
        "data = pd.read_excel(file_path)\n",
        "\n",
        "data.columns = data.columns.str.strip()"
      ],
      "metadata": {
        "id": "cfORXG7EAKPC"
      },
      "execution_count": 4,
      "outputs": []
    },
    {
      "cell_type": "markdown",
      "source": [
        "**PRÉ - PROCESSAMENTO**\n",
        "\n",
        "A função preprocess_data(df) é definida, recebe o DataFrame e faz o pré-processamento dos dados. Logo em seguida, uma lista é definida com as colunas necessárias ('INTERESSE PROFISSIONAL', 'INTERESSE PESSOAL', 'AREA INTERESSE') e um loop é iniciado para verificar se todas as colunas necessárias estão presentes no DataFrame. Caso alguma coluna não seja encontrada, uma mensagem de erro é retornada.\n",
        "\n",
        "Os valores ausentes nas colunas de interesse são preenchidas com strings vazias e uma nova coluna é criada combinando os interesses profissionais, pessoais e áreas de interesse. O código garante que a nova coluna \"INTERESSE\" não tenha valores nulos e em seguida retorna o DataFrame processado e aplica a função preprocess_data no DataFrame. Uma instância é criada do TfidfVectorizer para converter o texto de interesses em vetores numéricos e Transforma os textos da coluna \"INTERESSE\" em uma matriz de TF-IDF.\n",
        "\n",
        "\n"
      ],
      "metadata": {
        "id": "fqG-rftNAhEz"
      }
    },
    {
      "cell_type": "code",
      "source": [
        "def preprocess_data(df):\n",
        "    columns_needed = ['INTERESSE PROFISSIONAL', 'INTERESSE PESSOAL', 'AREA INTERESSE']\n",
        "    for column in columns_needed:\n",
        "        if column not in df.columns:\n",
        "            print(f\"Coluna não encontrada: {column}\")\n",
        "            return df\n",
        "\n",
        "    df[columns_needed] = df[columns_needed].fillna('')\n",
        "\n",
        "    df['INTERESSE'] = df['INTERESSE PROFISSIONAL'] + ' ' + df['INTERESSE PESSOAL'] + ' ' + df['AREA INTERESSE']\n",
        "\n",
        "    df['INTERESSE'] = df['INTERESSE'].fillna('')\n",
        "\n",
        "    return df\n",
        "\n",
        "data = preprocess_data(data)\n",
        "\n",
        "vectorizer = TfidfVectorizer()\n",
        "interest_matrix = vectorizer.fit_transform(data['INTERESSE'])\n"
      ],
      "metadata": {
        "id": "G7e0DfvVFxMy"
      },
      "execution_count": 5,
      "outputs": []
    },
    {
      "cell_type": "markdown",
      "source": [
        "**RECOMENDAÇÃO DE CURSOS**\n",
        "\n",
        "Primeiramente a funcação para recomendar cursos é definida com base nos interesses do usuários e os interesses inseridos pelo usuário são combinados em uma string. Esses interesses são convertidos em um vetor numérico usando TF-IDF e a similaridade entre o vetor de interesses do usuário e todos os cursos disponíveis é calculada usando a similaridade cosseno.\n",
        "\n",
        "Para armazenar as recomendações, uma lista vazia é criada e logo em seguida um loop percorre todas as similaridades calculadas entre os interesses do usuário e os cursos. Se a  similaridade for maior que 0, adiciona o curso à lista de recomendações e são armazenados o título do curso (TITULO), a nota do curso (NOTA) e a similaridade calculada. Em seguida, é verificado se a lista de recomendações contém algum curso após o término do loop e se e houver cursos recomendados, prossegue com a ordenação.  A lista de recomendações é ordenada com base em dois critérios: a similaridade (no índice x[2]) e a nota do curso (no índice x[1]). A função sorted() organiza os cursos pela maior similaridade e nota portanto recomendação de melhor curso é a primeira posição da lista ordenada. Depois de ordenar as recomendações, o código retorna o título (best_recommendation[0]) do curso com a maior similaridade e nota, recomendando-o ao usuário.\n",
        "\n",
        "Caso nenhuma recomendação tenha sido encontrada, o código executa o bloco seguinte e retorna uma mensagem informando que não foram encontrados cursos que se alinhem com os interesses fornecidos."
      ],
      "metadata": {
        "id": "HByAi78KF4Yo"
      }
    },
    {
      "cell_type": "code",
      "source": [
        "def recommend_course(interesse_profissional, interesse_pessoal, area_interesse):\n",
        "    user_interest = f\"{interesse_profissional} {interesse_pessoal} {area_interesse}\"\n",
        "    user_interest_vector = vectorizer.transform([user_interest])\n",
        "\n",
        "    course_similarities = cosine_similarity(user_interest_vector, interest_matrix).flatten()\n",
        "\n",
        "    course_recommendations = []\n",
        "    for i, similarity in enumerate(course_similarities):\n",
        "        if similarity > 0:\n",
        "            course_recommendations.append((data.iloc[i]['TITULO'], data.iloc[i]['NOTA'], similarity))\n",
        "\n",
        "    if course_recommendations:\n",
        "        best_recommendation = sorted(course_recommendations, key=lambda x: (x[2], x[1]), reverse=True)[0]\n",
        "        return best_recommendation[0]\n",
        "    else:\n",
        "        return \"Nenhum curso encontrado com base nos interesses fornecidos.\""
      ],
      "metadata": {
        "id": "bLgCEYQcbuq0"
      },
      "execution_count": 6,
      "outputs": []
    },
    {
      "cell_type": "markdown",
      "source": [
        "**ADICIONAR INFORMAÇÕES DO USUÁRIO**\n",
        "\n",
        "Primeiramente a funçao é definida para adicionar informações do usuário ao DataFrame, depois essas informações são coletada por meio de inputs e um novo DataFrame com as informações inseridas. A nova entrada é adicionada e salva, atualizando o excel. Em seguida o código exibe uma mensagem de sucesso e encerra o programa após o registro das informações."
      ],
      "metadata": {
        "id": "T18HfDa9b23i"
      }
    },
    {
      "cell_type": "code",
      "source": [
        "def add_user_info():\n",
        "    user_info = {\n",
        "        'ID USUÁRIO': input(\"Digite o seu ID: \"),\n",
        "        'NOME': input(\"Digite o seu nome: \"),\n",
        "        'E-MAIL': input(\"Digite seu e-mail: \"),\n",
        "        'SENHA': input(\"Digite sua senha: \"),\n",
        "        'DATA NASCIMENTO': input(\"Digite sua data de nascimento (YYYY-MM-DD): \"),\n",
        "        'CPF': input(\"Digite seu CPF: \"),\n",
        "        'PROFISSÃO': input(\"Digite sua profissão: \"),\n",
        "        'CATEGORIA DO CURSO': input(\"Digite a categoria do curso realizado: \"),\n",
        "        'TITULO': input(\"Digite o título do curso: \"),\n",
        "        'INTERESSE PROFISSIONAL': input(\"Digite seu interesse profissional: \"),\n",
        "        'INTERESSE PESSOAL': input(\"Digite seu interesse pessoal: \"),\n",
        "        'AREA INTERESSE': input(\"Digite sua área de interesse: \"),\n",
        "        'NOTA': float(input(\"Digite a nota do curso: \")),\n",
        "        'COMENTARIO': input(\"Digite um comentário sobre o curso: \")\n",
        "    }\n",
        "\n",
        "    global data\n",
        "    new_entry = pd.DataFrame([user_info])\n",
        "    data = pd.concat([data, new_entry], ignore_index=True)\n",
        "    data.to_excel(file_path, index=False)\n",
        "    print(\"Informações do usuário registradas com sucesso!\")\n",
        "\n",
        "    print(\"Encerrando o programa...\")\n",
        "    exit()"
      ],
      "metadata": {
        "id": "o7SHGdGxdiU0"
      },
      "execution_count": 7,
      "outputs": []
    },
    {
      "cell_type": "markdown",
      "source": [
        "**TREINAR O MODELO**\n",
        "\n",
        "Para treinar o modelo de regressão linear, primeiro a função é definida e o pré-processamento aplicado. Os interesses são tranformados em vetores numéricos e as notas do curso são definidas como alvo.\n",
        "\n",
        "Em seguida, os dados são divididos em conjuntos de treino e teste e um modelo de regressão linear é criado. Esse modelo é treinado com os dados de treino e faz previsões com os dados de teste, após essa etapa o erro quadrático médio das previsões é calculado e retornado.\n"
      ],
      "metadata": {
        "id": "sQifaj0WduuL"
      }
    },
    {
      "cell_type": "code",
      "source": [
        "def train_validate_model(df):\n",
        "    df = preprocess_data(df)\n",
        "    X = vectorizer.transform(df['INTERESSE'])\n",
        "    y = df['NOTA']\n",
        "\n",
        "    X_train, X_test, y_train, y_test = train_test_split(X, y, test_size=0.2, random_state=42)\n",
        "\n",
        "    model = LinearRegression()\n",
        "    model.fit(X_train, y_train)\n",
        "\n",
        "    y_pred = model.predict(X_test)\n",
        "    mse = mean_squared_error(y_test, y_pred)\n",
        "\n",
        "    return mse"
      ],
      "metadata": {
        "id": "F2UaNfyJg_L3"
      },
      "execution_count": 8,
      "outputs": []
    },
    {
      "cell_type": "markdown",
      "source": [
        "**MAIN**\n",
        "\n",
        "A função main é definida e criada para interação do usuário, onde um loop infinito é iniciado e solicita a opção do usuário. São fornecidas três opções:\n",
        "\n",
        "*   Opção 1 = recomendação de cursos;\n",
        "*   Opção 2 = adicionar informações do usuário;\n",
        "*   Opção 3 = sair;\n",
        "\n",
        "Se o usuário escolher a opção 1, ela chama função de recomendação de cursos, exibe o curso recomendado e treina e valida o modelo, calculando o MSE e depois retorna para o usuário.\n",
        "\n",
        "Se o usuário escolher a opção 2, chama a função para adicionar informações do usuário e adiciona as informações na base de dados excel.\n",
        "\n",
        "Se o usuário escolher a opção 3, encerra o programa e se a opção for inválida, exibe uma mensagem de erro."
      ],
      "metadata": {
        "id": "jMW83YWEhEwi"
      }
    },
    {
      "cell_type": "code",
      "source": [
        "def main():\n",
        "    while True:\n",
        "        print(\"\\nEscolha uma opção:\")\n",
        "        print(\"1. Obter recomendações de cursos\")\n",
        "        print(\"2. Registrar informações do usuário\")\n",
        "        print(\"3. Sair\")\n",
        "\n",
        "        choice = input(\"Digite o número da opção desejada: \")\n",
        "\n",
        "        if choice == '1':\n",
        "            interesse_profissional = input(\"Digite seu interesse profissional: \")\n",
        "            interesse_pessoal = input(\"Digite seu interesse pessoal: \")\n",
        "            area_interesse = input(\"Digite sua área de interesse: \")\n",
        "\n",
        "            recommended_course = recommend_course(interesse_profissional, interesse_pessoal, area_interesse)\n",
        "            print(f\"Curso recomendado: {recommended_course}\")\n",
        "\n",
        "            mse = train_validate_model(data)\n",
        "            print(f\"Erro Quadrático Médio do Modelo: {mse}\")\n",
        "\n",
        "        elif choice == '2':\n",
        "            add_user_info()\n",
        "\n",
        "        elif choice == '3':\n",
        "            print(\"Saindo...\")\n",
        "            break\n",
        "\n",
        "        else:\n",
        "            print(\"Opção inválida. Tente novamente.\")\n",
        "\n",
        "if __name__ == \"__main__\":\n",
        "    main()\n"
      ],
      "metadata": {
        "id": "KtWyhRekiTO_",
        "outputId": "e062fe56-dce0-4688-91e2-472bb33fb92e",
        "colab": {
          "base_uri": "https://localhost:8080/"
        }
      },
      "execution_count": null,
      "outputs": [
        {
          "output_type": "stream",
          "name": "stdout",
          "text": [
            "\n",
            "Escolha uma opção:\n",
            "1. Obter recomendações de cursos\n",
            "2. Registrar informações do usuário\n",
            "3. Sair\n"
          ]
        }
      ]
    }
  ],
  "metadata": {
    "colab": {
      "name": "Olá, este é o Colaboratory",
      "provenance": []
    },
    "kernelspec": {
      "display_name": "Python 3",
      "name": "python3"
    }
  },
  "nbformat": 4,
  "nbformat_minor": 0
}