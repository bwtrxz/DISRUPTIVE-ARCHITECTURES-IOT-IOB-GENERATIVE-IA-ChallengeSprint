{
  "cells": [
    {
      "cell_type": "markdown",
      "source": [
        "**CHALLENGE SPRINT**\n",
        "\n",
        "A IA projetada para o sistema de recomendações personalizadas foi criada para fornecer informações para os usuários com base nos seus interesses pessoais, profissionais e acadêmicos. O sistema foi desenvolvido através de uma série de etapas que garantiram um bom funcionamento e eficácia, passando por etapas desde a coleta e preparação dos dados fornecidos até o treinamento e validação do modelo final.\n",
        "\n",
        "Dados como interesse profissional, interesse pessoal e área de interesse são coletados e armazenados em uma base de dados (Excel).\n",
        "\n",
        "\n",
        "\n"
      ],
      "metadata": {
        "id": "va5X0OHdMRNv"
      }
    },
    {
      "cell_type": "markdown",
      "source": [
        "O primeiro passo é importar o módulo drive da biblioteca google.colab, permitindo o acesso ao Google Drive através do Google Colab"
      ],
      "metadata": {
        "id": "XHhG0VdOPeFZ"
      }
    },
    {
      "cell_type": "code",
      "source": [
        "from google.colab import drive\n",
        "drive.mount('/content/drive')"
      ],
      "metadata": {
        "colab": {
          "base_uri": "https://localhost:8080/"
        },
        "id": "wMvo8CQkOWBw",
        "outputId": "ae0aa156-fbf6-43da-f627-e5f3480f15ae"
      },
      "execution_count": 2,
      "outputs": [
        {
          "output_type": "stream",
          "name": "stdout",
          "text": [
            "Mounted at /content/drive\n"
          ]
        }
      ]
    }
  ],
  "metadata": {
    "colab": {
      "name": "Olá, este é o Colaboratory",
      "provenance": []
    },
    "kernelspec": {
      "display_name": "Python 3",
      "name": "python3"
    }
  },
  "nbformat": 4,
  "nbformat_minor": 0
}